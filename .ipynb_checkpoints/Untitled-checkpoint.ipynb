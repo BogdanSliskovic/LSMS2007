{
 "cells": [
  {
   "cell_type": "code",
   "execution_count": 1,
   "id": "0ea939af-f069-42d2-975a-6b1ea2ae2e80",
   "metadata": {},
   "outputs": [],
   "source": [
    "import pandas as pd\n",
    "import numpy as np\n",
    "import matplotlib.pyplot as plt\n",
    "import seaborn as sns\n",
    "from scipy import stats\n",
    "import locale\n",
    "locale.setlocale(locale.LC_ALL, 'sr_RS.UTF-8')\n",
    "def form(value):\n",
    "    if isinstance(value, (int, float, np.number)):\n",
    "        return locale.format_string('%.2f', value, grouping=True)\n",
    "    return str(value)\n",
    "pd.options.display.float_format = lambda x: form(x)\n",
    "np.set_printoptions(formatter={'all': lambda x: form(x)})"
   ]
  },
  {
   "cell_type": "code",
   "execution_count": 2,
   "id": "5cdf1a30-79dd-46c0-b7b7-04fda3fb22b1",
   "metadata": {},
   "outputs": [],
   "source": [
    "df = pd.read_stata('TU.dta')"
   ]
  },
  {
   "cell_type": "code",
   "execution_count": 6,
   "id": "6a39a360-ef91-431c-a0c6-ed43e86b80c9",
   "metadata": {},
   "outputs": [],
   "source": [
    "from klase import Bootstrapping"
   ]
  },
  {
   "cell_type": "code",
   "execution_count": 7,
   "id": "a53eb3f5-6b6e-4edc-b544-79d03978f3a8",
   "metadata": {},
   "outputs": [
    {
     "ename": "NameError",
     "evalue": "name 'stats' is not defined",
     "output_type": "error",
     "traceback": [
      "\u001b[1;31m---------------------------------------------------------------------------\u001b[0m",
      "\u001b[1;31mNameError\u001b[0m                                 Traceback (most recent call last)",
      "Cell \u001b[1;32mIn[7], line 4\u001b[0m\n\u001b[0;32m      2\u001b[0m bs \u001b[38;5;241m=\u001b[39m Bootstrapping(df)\n\u001b[0;32m      3\u001b[0m bs\u001b[38;5;241m.\u001b[39mfit(\u001b[38;5;241m50\u001b[39m)\n\u001b[1;32m----> 4\u001b[0m \u001b[43mbs\u001b[49m\u001b[38;5;241;43m.\u001b[39;49m\u001b[43msummary\u001b[49m\n",
      "File \u001b[1;32m~\\Desktop\\bole\\Ocenjivanje-prosecne-i-ukupne-plate-u-Srbiji-2007\\klase.py:125\u001b[0m, in \u001b[0;36mBootstrapping.summary\u001b[1;34m(self)\u001b[0m\n\u001b[0;32m    122\u001b[0m d \u001b[38;5;241m=\u001b[39m \u001b[38;5;28mself\u001b[39m\u001b[38;5;241m.\u001b[39md()\n\u001b[0;32m    123\u001b[0m d\u001b[38;5;241m.\u001b[39mindex \u001b[38;5;241m=\u001b[39m [\u001b[38;5;124mf\u001b[39m\u001b[38;5;124m\"\u001b[39m\u001b[38;5;124md(\u001b[39m\u001b[38;5;132;01m{\u001b[39;00m(\u001b[38;5;241m1\u001b[39m\u001b[38;5;250m \u001b[39m\u001b[38;5;241m-\u001b[39m\u001b[38;5;250m \u001b[39ma)\u001b[38;5;250m \u001b[39m\u001b[38;5;241m*\u001b[39m\u001b[38;5;250m \u001b[39m\u001b[38;5;241m100\u001b[39m\u001b[38;5;132;01m:\u001b[39;00m\u001b[38;5;124m.0f\u001b[39m\u001b[38;5;132;01m}\u001b[39;00m\u001b[38;5;124m)%\u001b[39m\u001b[38;5;124m\"\u001b[39m \u001b[38;5;28;01mfor\u001b[39;00m a \u001b[38;5;129;01min\u001b[39;00m \u001b[38;5;28mself\u001b[39m\u001b[38;5;241m.\u001b[39malfa]\n\u001b[1;32m--> 125\u001b[0m data \u001b[38;5;241m=\u001b[39m pd\u001b[38;5;241m.\u001b[39mconcat([data,\u001b[43mjb\u001b[49m\u001b[43m(\u001b[49m\u001b[38;5;28;43mself\u001b[39;49m\u001b[38;5;241;43m.\u001b[39;49m\u001b[43msredineUzoraka\u001b[49m\u001b[43m)\u001b[49m])\n\u001b[0;32m    127\u001b[0m \u001b[38;5;28;01mreturn\u001b[39;00m pd\u001b[38;5;241m.\u001b[39mDataFrame(data)\n",
      "File \u001b[1;32m~\\Desktop\\bole\\Ocenjivanje-prosecne-i-ukupne-plate-u-Srbiji-2007\\klase.py:15\u001b[0m, in \u001b[0;36mjb\u001b[1;34m(var, alfa)\u001b[0m\n\u001b[0;32m     13\u001b[0m S, K \u001b[38;5;241m=\u001b[39m mi3 \u001b[38;5;241m/\u001b[39m sigma3, mi4 \u001b[38;5;241m/\u001b[39m sigma4\n\u001b[0;32m     14\u001b[0m JB \u001b[38;5;241m=\u001b[39m \u001b[38;5;28mlen\u001b[39m(var) \u001b[38;5;241m*\u001b[39m (np\u001b[38;5;241m.\u001b[39msquare(S) \u001b[38;5;241m+\u001b[39m np\u001b[38;5;241m.\u001b[39msquare(K \u001b[38;5;241m-\u001b[39m \u001b[38;5;241m3\u001b[39m) \u001b[38;5;241m/\u001b[39m \u001b[38;5;241m4\u001b[39m) \u001b[38;5;241m/\u001b[39m \u001b[38;5;241m6\u001b[39m\n\u001b[1;32m---> 15\u001b[0m p \u001b[38;5;241m=\u001b[39m \u001b[43mstats\u001b[49m\u001b[38;5;241m.\u001b[39mchi2\u001b[38;5;241m.\u001b[39msf(JB, df\u001b[38;5;241m=\u001b[39m\u001b[38;5;241m2\u001b[39m)\n\u001b[0;32m     16\u001b[0m \u001b[38;5;28;01mif\u001b[39;00m p \u001b[38;5;241m<\u001b[39m alfa:\n\u001b[0;32m     17\u001b[0m     \u001b[38;5;28mprint\u001b[39m(\u001b[38;5;124mf\u001b[39m\u001b[38;5;124m'\u001b[39m\u001b[38;5;124mUz rizik greške od \u001b[39m\u001b[38;5;132;01m{\u001b[39;00malfa\u001b[38;5;250m \u001b[39m\u001b[38;5;241m*\u001b[39m\u001b[38;5;250m \u001b[39m\u001b[38;5;241m100\u001b[39m\u001b[38;5;132;01m}\u001b[39;00m\u001b[38;5;124m%, odbacujem nultu hipotezu i zaključujem da se raspodela varijable \u001b[39m\u001b[38;5;132;01m{\u001b[39;00mvar\u001b[38;5;241m.\u001b[39mname\u001b[38;5;132;01m}\u001b[39;00m\u001b[38;5;124m statistički značajno razlikuje od normalne\u001b[39m\u001b[38;5;124m'\u001b[39m)\n",
      "\u001b[1;31mNameError\u001b[0m: name 'stats' is not defined"
     ]
    }
   ],
   "source": [
    "alfa10 = np.linspace(0.1,0.5,10)\n",
    "bs = Bootstrapping(df)\n",
    "bs.fit(50)\n",
    "bs.summary"
   ]
  },
  {
   "cell_type": "code",
   "execution_count": null,
   "id": "ccdb1670-f0e9-4c24-83c7-f4315c60bd6c",
   "metadata": {},
   "outputs": [],
   "source": []
  }
 ],
 "metadata": {
  "kernelspec": {
   "display_name": "Python 3 (ipykernel)",
   "language": "python",
   "name": "python3"
  },
  "language_info": {
   "codemirror_mode": {
    "name": "ipython",
    "version": 3
   },
   "file_extension": ".py",
   "mimetype": "text/x-python",
   "name": "python",
   "nbconvert_exporter": "python",
   "pygments_lexer": "ipython3",
   "version": "3.13.1"
  }
 },
 "nbformat": 4,
 "nbformat_minor": 5
}
