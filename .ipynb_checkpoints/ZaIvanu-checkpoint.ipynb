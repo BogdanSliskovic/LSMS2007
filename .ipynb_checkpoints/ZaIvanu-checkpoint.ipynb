{
 "cells": [
  {
   "cell_type": "code",
   "execution_count": 1,
   "id": "a4e5d2c1-dbb6-4afa-8661-0924eba02a0b",
   "metadata": {},
   "outputs": [],
   "source": [
    "import pandas as pd"
   ]
  },
  {
   "cell_type": "code",
   "execution_count": null,
   "id": "191943ef-a961-46c1-972f-1ee28b9ee0cf",
   "metadata": {},
   "outputs": [],
   "source": [
    "df =pd.read_excel(r\"C:\\Users\\bogdan.sliskovic\\Downloads\\table_1500_1600_2010VMVAL.xlsx\", sheet_name = 'T1500')\n",
    "\n",
    "ind = df.iloc[:, 0]\n",
    "\n",
    "ind = ind[ind.isnull() == 0]\n",
    "\n",
    "ind = ind.reset_index(drop = True)\n",
    "\n",
    "kol = df.columns[~df.columns.str.contains('Unnamed')]"
   ]
  },
  {
   "cell_type": "code",
   "execution_count": 197,
   "id": "422aecd3-959f-44a8-81b7-435cf2e1bd3c",
   "metadata": {},
   "outputs": [],
   "source": [
    "total = []\n",
    "for i in ind:\n",
    "    delovi = [f\"{i}_{col}\" for col in kol[:65]]\n",
    "    total_oznaka = f\"{i}_TOTAL\"\n",
    "    formula = f\"{total_oznaka} = \" + \" + \".join(delovi)\n",
    "    total.append(formula)\n",
    "total = pd.Series(total, name = 'Total')"
   ]
  },
  {
   "cell_type": "code",
   "execution_count": 198,
   "id": "bc093c07-4409-494f-bfcc-666d0ceed9a0",
   "metadata": {},
   "outputs": [
    {
     "data": {
      "text/plain": [
       "0     CPA_A01_TOTAL = CPA_A01_A01 + CPA_A01_A02 + CP...\n",
       "1     CPA_A02_TOTAL = CPA_A02_A01 + CPA_A02_A02 + CP...\n",
       "2     CPA_A03_TOTAL = CPA_A03_A01 + CPA_A03_A02 + CP...\n",
       "3     CPA_B_TOTAL = CPA_B_A01 + CPA_B_A02 + CPA_B_A0...\n",
       "4     CPA_C10T12_TOTAL = CPA_C10T12_A01 + CPA_C10T12...\n",
       "                            ...                        \n",
       "67    RESPUR_TOTAL = RESPUR_A01 + RESPUR_A02 + RESPU...\n",
       "68    ADJTOT_TOTAL = ADJTOT_A01 + ADJTOT_A02 + ADJTO...\n",
       "69    P11_TOTAL = P11_A01 + P11_A02 + P11_A03 + P11_...\n",
       "70    P12_TOTAL = P12_A01 + P12_A02 + P12_A03 + P12_...\n",
       "71    P13_TOTAL = P13_A01 + P13_A02 + P13_A03 + P13_...\n",
       "Name: Total, Length: 72, dtype: object"
      ]
     },
     "execution_count": 198,
     "metadata": {},
     "output_type": "execute_result"
    }
   ],
   "source": [
    "total"
   ]
  },
  {
   "cell_type": "code",
   "execution_count": 199,
   "id": "8a7824c7-de5f-4896-902b-bafa4d30b970",
   "metadata": {},
   "outputs": [],
   "source": [
    "eu = kol[67], kol[68]"
   ]
  },
  {
   "cell_type": "code",
   "execution_count": 200,
   "id": "60d083da-7458-4e29-b9bf-42302584cd31",
   "metadata": {},
   "outputs": [
    {
     "data": {
      "text/plain": [
       "('P7_EU1', 'P7_EU2')"
      ]
     },
     "execution_count": 200,
     "metadata": {},
     "output_type": "execute_result"
    }
   ],
   "source": [
    "eu"
   ]
  },
  {
   "cell_type": "code",
   "execution_count": 201,
   "id": "ac79cad7-3740-4bc8-874d-bae352cd602f",
   "metadata": {},
   "outputs": [],
   "source": [
    "evropa = []\n",
    "for i in ind:\n",
    "    delovi = [f\"{i}_{col}\" for col in eu]\n",
    "    total_oznaka = f\"{i}_TOTAL\"\n",
    "    formula = f\"{total_oznaka} = \" + \" + \".join(delovi)\n",
    "    evropa.append(formula)\n",
    "evropa = pd.Series(evropa, name = 'EU Member States (evolving composition) including EU institutions')"
   ]
  },
  {
   "cell_type": "code",
   "execution_count": 202,
   "id": "e1124e67-f23a-4a54-b531-ea5761e2eefa",
   "metadata": {},
   "outputs": [
    {
     "data": {
      "text/plain": [
       "0       CPA_A01_TOTAL = CPA_A01_P7_EU1 + CPA_A01_P7_EU2\n",
       "1       CPA_A02_TOTAL = CPA_A02_P7_EU1 + CPA_A02_P7_EU2\n",
       "2       CPA_A03_TOTAL = CPA_A03_P7_EU1 + CPA_A03_P7_EU2\n",
       "3             CPA_B_TOTAL = CPA_B_P7_EU1 + CPA_B_P7_EU2\n",
       "4     CPA_C10T12_TOTAL = CPA_C10T12_P7_EU1 + CPA_C10...\n",
       "                            ...                        \n",
       "67         RESPUR_TOTAL = RESPUR_P7_EU1 + RESPUR_P7_EU2\n",
       "68         ADJTOT_TOTAL = ADJTOT_P7_EU1 + ADJTOT_P7_EU2\n",
       "69                  P11_TOTAL = P11_P7_EU1 + P11_P7_EU2\n",
       "70                  P12_TOTAL = P12_P7_EU1 + P12_P7_EU2\n",
       "71                  P13_TOTAL = P13_P7_EU1 + P13_P7_EU2\n",
       "Name: EU Member States (evolving composition) including EU institutions, Length: 72, dtype: object"
      ]
     },
     "execution_count": 202,
     "metadata": {},
     "output_type": "execute_result"
    }
   ],
   "source": [
    "evropa"
   ]
  },
  {
   "cell_type": "code",
   "execution_count": 203,
   "id": "b52f8d36-7fcd-4fe9-b2d9-e37d26fd7af2",
   "metadata": {},
   "outputs": [
    {
     "data": {
      "text/plain": [
       "Index(['P7_EU1', 'P7_EU2', 'P7_NONEU'], dtype='object')"
      ]
     },
     "execution_count": 203,
     "metadata": {},
     "output_type": "execute_result"
    }
   ],
   "source": [
    "kol[67:70]"
   ]
  },
  {
   "cell_type": "code",
   "execution_count": 204,
   "id": "307bf0bf-b285-499e-a39b-6c9bb4812e31",
   "metadata": {},
   "outputs": [],
   "source": [
    "totalImports = []\n",
    "for i in ind:\n",
    "    delovi = [f\"{i}_{col}\" for col in kol[67:70]]\n",
    "    total_oznaka = f\"{i}_TOTAL\"\n",
    "    formula = f\"{total_oznaka} = \" + \" + \".join(delovi)\n",
    "    totalImports.append(formula)\n",
    "totalImports = pd.Series(totalImports, name = 'Total imports')"
   ]
  },
  {
   "cell_type": "code",
   "execution_count": 205,
   "id": "8486dc6b-7322-4320-a0a4-b202d1fc3c34",
   "metadata": {},
   "outputs": [
    {
     "data": {
      "text/plain": [
       "0     CPA_A01_TOTAL = CPA_A01_P7_EU1 + CPA_A01_P7_EU...\n",
       "1     CPA_A02_TOTAL = CPA_A02_P7_EU1 + CPA_A02_P7_EU...\n",
       "2     CPA_A03_TOTAL = CPA_A03_P7_EU1 + CPA_A03_P7_EU...\n",
       "3     CPA_B_TOTAL = CPA_B_P7_EU1 + CPA_B_P7_EU2 + CP...\n",
       "4     CPA_C10T12_TOTAL = CPA_C10T12_P7_EU1 + CPA_C10...\n",
       "                            ...                        \n",
       "67    RESPUR_TOTAL = RESPUR_P7_EU1 + RESPUR_P7_EU2 +...\n",
       "68    ADJTOT_TOTAL = ADJTOT_P7_EU1 + ADJTOT_P7_EU2 +...\n",
       "69    P11_TOTAL = P11_P7_EU1 + P11_P7_EU2 + P11_P7_N...\n",
       "70    P12_TOTAL = P12_P7_EU1 + P12_P7_EU2 + P12_P7_N...\n",
       "71    P13_TOTAL = P13_P7_EU1 + P13_P7_EU2 + P13_P7_N...\n",
       "Name: Total imports, Length: 72, dtype: object"
      ]
     },
     "execution_count": 205,
     "metadata": {},
     "output_type": "execute_result"
    }
   ],
   "source": [
    "totalImports"
   ]
  },
  {
   "cell_type": "code",
   "execution_count": 206,
   "id": "3520bc37-bcec-425a-9256-3dcae6826e86",
   "metadata": {},
   "outputs": [
    {
     "data": {
      "text/plain": [
       "Index(['P7_EU1', 'P7_EU2', 'P7_NONEU'], dtype='object')"
      ]
     },
     "execution_count": 206,
     "metadata": {},
     "output_type": "execute_result"
    }
   ],
   "source": [
    "kol[67:70]"
   ]
  },
  {
   "cell_type": "code",
   "execution_count": 207,
   "id": "1b545ece-957c-402f-a10a-e159a29acd0f",
   "metadata": {},
   "outputs": [],
   "source": [
    "sup = list(kol[:65]) + list(kol[67:70])"
   ]
  },
  {
   "cell_type": "code",
   "execution_count": 208,
   "id": "cab2cce7-0cbb-4dbc-8ff7-5459e12ebe55",
   "metadata": {},
   "outputs": [],
   "source": [
    "supply = []\n",
    "for i in ind:\n",
    "    delovi = [f\"{i}_{col}\" for col in sup]\n",
    "    total_oznaka = f\"{i}_TOTAL\"\n",
    "    formula = f\"{total_oznaka} = \" + \" + \".join(delovi)\n",
    "    supply.append(formula)\n",
    "supply = pd.Series(supply, name = 'Total supply at basic prices')"
   ]
  },
  {
   "cell_type": "code",
   "execution_count": 209,
   "id": "70983b38-6ec7-4aba-bb6e-c04b12bfaeb7",
   "metadata": {},
   "outputs": [
    {
     "data": {
      "text/plain": [
       "0     CPA_A01_TOTAL = CPA_A01_A01 + CPA_A01_A02 + CP...\n",
       "1     CPA_A02_TOTAL = CPA_A02_A01 + CPA_A02_A02 + CP...\n",
       "2     CPA_A03_TOTAL = CPA_A03_A01 + CPA_A03_A02 + CP...\n",
       "3     CPA_B_TOTAL = CPA_B_A01 + CPA_B_A02 + CPA_B_A0...\n",
       "4     CPA_C10T12_TOTAL = CPA_C10T12_A01 + CPA_C10T12...\n",
       "                            ...                        \n",
       "67    RESPUR_TOTAL = RESPUR_A01 + RESPUR_A02 + RESPU...\n",
       "68    ADJTOT_TOTAL = ADJTOT_A01 + ADJTOT_A02 + ADJTO...\n",
       "69    P11_TOTAL = P11_A01 + P11_A02 + P11_A03 + P11_...\n",
       "70    P12_TOTAL = P12_A01 + P12_A02 + P12_A03 + P12_...\n",
       "71    P13_TOTAL = P13_A01 + P13_A02 + P13_A03 + P13_...\n",
       "Name: Total supply at basic prices, Length: 72, dtype: object"
      ]
     },
     "execution_count": 209,
     "metadata": {},
     "output_type": "execute_result"
    }
   ],
   "source": [
    "supply"
   ]
  },
  {
   "cell_type": "code",
   "execution_count": 210,
   "id": "0c5e97e5-d5df-4b82-adc9-00ba20944a81",
   "metadata": {},
   "outputs": [],
   "source": [
    "supPP = sup + [kol[72]] + [kol[73]]"
   ]
  },
  {
   "cell_type": "code",
   "execution_count": 211,
   "id": "f6086ccf-274a-4fb7-8696-dd134340f26b",
   "metadata": {},
   "outputs": [],
   "source": [
    "supplyPP = []\n",
    "supplyPP = []\n",
    "for i in ind:\n",
    "    delovi = [f\"{i}_{col}\" for col in supPP]\n",
    "    total_oznaka = f\"{i}_TOTAL\"\n",
    "    formula = f\"{total_oznaka} = \" + \" + \".join(delovi)\n",
    "    supplyPP.append(formula)\n",
    "supplyPP = pd.Series(supplyPP, name = 'Total supply at basic prices')"
   ]
  },
  {
   "cell_type": "code",
   "execution_count": 212,
   "id": "f52b2fb5-178a-4389-baf9-f35b2ca796b7",
   "metadata": {},
   "outputs": [
    {
     "data": {
      "text/plain": [
       "0     CPA_A01_TOTAL = CPA_A01_A01 + CPA_A01_A02 + CP...\n",
       "1     CPA_A02_TOTAL = CPA_A02_A01 + CPA_A02_A02 + CP...\n",
       "2     CPA_A03_TOTAL = CPA_A03_A01 + CPA_A03_A02 + CP...\n",
       "3     CPA_B_TOTAL = CPA_B_A01 + CPA_B_A02 + CPA_B_A0...\n",
       "4     CPA_C10T12_TOTAL = CPA_C10T12_A01 + CPA_C10T12...\n",
       "                            ...                        \n",
       "67    RESPUR_TOTAL = RESPUR_A01 + RESPUR_A02 + RESPU...\n",
       "68    ADJTOT_TOTAL = ADJTOT_A01 + ADJTOT_A02 + ADJTO...\n",
       "69    P11_TOTAL = P11_A01 + P11_A02 + P11_A03 + P11_...\n",
       "70    P12_TOTAL = P12_A01 + P12_A02 + P12_A03 + P12_...\n",
       "71    P13_TOTAL = P13_A01 + P13_A02 + P13_A03 + P13_...\n",
       "Name: Total supply at basic prices, Length: 72, dtype: object"
      ]
     },
     "execution_count": 212,
     "metadata": {},
     "output_type": "execute_result"
    }
   ],
   "source": [
    "supplyPP"
   ]
  },
  {
   "cell_type": "code",
   "execution_count": 213,
   "id": "8186fb6e-d4c4-4d36-ba01-0bce06f6f72d",
   "metadata": {},
   "outputs": [],
   "source": [
    "output = pd.concat([total, evropa, totalImports, supply, supplyPP], axis = 1)"
   ]
  },
  {
   "cell_type": "code",
   "execution_count": 214,
   "id": "ea1ea8a4-c888-42cd-a57d-eb99fe8c6fd3",
   "metadata": {},
   "outputs": [
    {
     "ename": "PermissionError",
     "evalue": "[Errno 13] Permission denied: 'gotovo.xlsx'",
     "output_type": "error",
     "traceback": [
      "\u001b[1;31m---------------------------------------------------------------------------\u001b[0m",
      "\u001b[1;31mPermissionError\u001b[0m                           Traceback (most recent call last)",
      "Cell \u001b[1;32mIn[214], line 1\u001b[0m\n\u001b[1;32m----> 1\u001b[0m \u001b[43moutput\u001b[49m\u001b[38;5;241;43m.\u001b[39;49m\u001b[43mto_excel\u001b[49m\u001b[43m(\u001b[49m\u001b[38;5;124;43m\"\u001b[39;49m\u001b[38;5;124;43mgotovo.xlsx\u001b[39;49m\u001b[38;5;124;43m\"\u001b[39;49m\u001b[43m,\u001b[49m\u001b[43m \u001b[49m\u001b[43mindex\u001b[49m\u001b[38;5;241;43m=\u001b[39;49m\u001b[38;5;28;43;01mFalse\u001b[39;49;00m\u001b[43m)\u001b[49m\n",
      "File \u001b[1;32m~\\AppData\\Local\\Programs\\Python\\Python313\\Lib\\site-packages\\pandas\\util\\_decorators.py:333\u001b[0m, in \u001b[0;36mdeprecate_nonkeyword_arguments.<locals>.decorate.<locals>.wrapper\u001b[1;34m(*args, **kwargs)\u001b[0m\n\u001b[0;32m    327\u001b[0m \u001b[38;5;28;01mif\u001b[39;00m \u001b[38;5;28mlen\u001b[39m(args) \u001b[38;5;241m>\u001b[39m num_allow_args:\n\u001b[0;32m    328\u001b[0m     warnings\u001b[38;5;241m.\u001b[39mwarn(\n\u001b[0;32m    329\u001b[0m         msg\u001b[38;5;241m.\u001b[39mformat(arguments\u001b[38;5;241m=\u001b[39m_format_argument_list(allow_args)),\n\u001b[0;32m    330\u001b[0m         \u001b[38;5;167;01mFutureWarning\u001b[39;00m,\n\u001b[0;32m    331\u001b[0m         stacklevel\u001b[38;5;241m=\u001b[39mfind_stack_level(),\n\u001b[0;32m    332\u001b[0m     )\n\u001b[1;32m--> 333\u001b[0m \u001b[38;5;28;01mreturn\u001b[39;00m \u001b[43mfunc\u001b[49m\u001b[43m(\u001b[49m\u001b[38;5;241;43m*\u001b[39;49m\u001b[43margs\u001b[49m\u001b[43m,\u001b[49m\u001b[43m \u001b[49m\u001b[38;5;241;43m*\u001b[39;49m\u001b[38;5;241;43m*\u001b[39;49m\u001b[43mkwargs\u001b[49m\u001b[43m)\u001b[49m\n",
      "File \u001b[1;32m~\\AppData\\Local\\Programs\\Python\\Python313\\Lib\\site-packages\\pandas\\core\\generic.py:2417\u001b[0m, in \u001b[0;36mNDFrame.to_excel\u001b[1;34m(self, excel_writer, sheet_name, na_rep, float_format, columns, header, index, index_label, startrow, startcol, engine, merge_cells, inf_rep, freeze_panes, storage_options, engine_kwargs)\u001b[0m\n\u001b[0;32m   2404\u001b[0m \u001b[38;5;28;01mfrom\u001b[39;00m\u001b[38;5;250m \u001b[39m\u001b[38;5;21;01mpandas\u001b[39;00m\u001b[38;5;21;01m.\u001b[39;00m\u001b[38;5;21;01mio\u001b[39;00m\u001b[38;5;21;01m.\u001b[39;00m\u001b[38;5;21;01mformats\u001b[39;00m\u001b[38;5;21;01m.\u001b[39;00m\u001b[38;5;21;01mexcel\u001b[39;00m\u001b[38;5;250m \u001b[39m\u001b[38;5;28;01mimport\u001b[39;00m ExcelFormatter\n\u001b[0;32m   2406\u001b[0m formatter \u001b[38;5;241m=\u001b[39m ExcelFormatter(\n\u001b[0;32m   2407\u001b[0m     df,\n\u001b[0;32m   2408\u001b[0m     na_rep\u001b[38;5;241m=\u001b[39mna_rep,\n\u001b[1;32m   (...)\u001b[0m\n\u001b[0;32m   2415\u001b[0m     inf_rep\u001b[38;5;241m=\u001b[39minf_rep,\n\u001b[0;32m   2416\u001b[0m )\n\u001b[1;32m-> 2417\u001b[0m \u001b[43mformatter\u001b[49m\u001b[38;5;241;43m.\u001b[39;49m\u001b[43mwrite\u001b[49m\u001b[43m(\u001b[49m\n\u001b[0;32m   2418\u001b[0m \u001b[43m    \u001b[49m\u001b[43mexcel_writer\u001b[49m\u001b[43m,\u001b[49m\n\u001b[0;32m   2419\u001b[0m \u001b[43m    \u001b[49m\u001b[43msheet_name\u001b[49m\u001b[38;5;241;43m=\u001b[39;49m\u001b[43msheet_name\u001b[49m\u001b[43m,\u001b[49m\n\u001b[0;32m   2420\u001b[0m \u001b[43m    \u001b[49m\u001b[43mstartrow\u001b[49m\u001b[38;5;241;43m=\u001b[39;49m\u001b[43mstartrow\u001b[49m\u001b[43m,\u001b[49m\n\u001b[0;32m   2421\u001b[0m \u001b[43m    \u001b[49m\u001b[43mstartcol\u001b[49m\u001b[38;5;241;43m=\u001b[39;49m\u001b[43mstartcol\u001b[49m\u001b[43m,\u001b[49m\n\u001b[0;32m   2422\u001b[0m \u001b[43m    \u001b[49m\u001b[43mfreeze_panes\u001b[49m\u001b[38;5;241;43m=\u001b[39;49m\u001b[43mfreeze_panes\u001b[49m\u001b[43m,\u001b[49m\n\u001b[0;32m   2423\u001b[0m \u001b[43m    \u001b[49m\u001b[43mengine\u001b[49m\u001b[38;5;241;43m=\u001b[39;49m\u001b[43mengine\u001b[49m\u001b[43m,\u001b[49m\n\u001b[0;32m   2424\u001b[0m \u001b[43m    \u001b[49m\u001b[43mstorage_options\u001b[49m\u001b[38;5;241;43m=\u001b[39;49m\u001b[43mstorage_options\u001b[49m\u001b[43m,\u001b[49m\n\u001b[0;32m   2425\u001b[0m \u001b[43m    \u001b[49m\u001b[43mengine_kwargs\u001b[49m\u001b[38;5;241;43m=\u001b[39;49m\u001b[43mengine_kwargs\u001b[49m\u001b[43m,\u001b[49m\n\u001b[0;32m   2426\u001b[0m \u001b[43m\u001b[49m\u001b[43m)\u001b[49m\n",
      "File \u001b[1;32m~\\AppData\\Local\\Programs\\Python\\Python313\\Lib\\site-packages\\pandas\\io\\formats\\excel.py:943\u001b[0m, in \u001b[0;36mExcelFormatter.write\u001b[1;34m(self, writer, sheet_name, startrow, startcol, freeze_panes, engine, storage_options, engine_kwargs)\u001b[0m\n\u001b[0;32m    941\u001b[0m     need_save \u001b[38;5;241m=\u001b[39m \u001b[38;5;28;01mFalse\u001b[39;00m\n\u001b[0;32m    942\u001b[0m \u001b[38;5;28;01melse\u001b[39;00m:\n\u001b[1;32m--> 943\u001b[0m     writer \u001b[38;5;241m=\u001b[39m \u001b[43mExcelWriter\u001b[49m\u001b[43m(\u001b[49m\n\u001b[0;32m    944\u001b[0m \u001b[43m        \u001b[49m\u001b[43mwriter\u001b[49m\u001b[43m,\u001b[49m\n\u001b[0;32m    945\u001b[0m \u001b[43m        \u001b[49m\u001b[43mengine\u001b[49m\u001b[38;5;241;43m=\u001b[39;49m\u001b[43mengine\u001b[49m\u001b[43m,\u001b[49m\n\u001b[0;32m    946\u001b[0m \u001b[43m        \u001b[49m\u001b[43mstorage_options\u001b[49m\u001b[38;5;241;43m=\u001b[39;49m\u001b[43mstorage_options\u001b[49m\u001b[43m,\u001b[49m\n\u001b[0;32m    947\u001b[0m \u001b[43m        \u001b[49m\u001b[43mengine_kwargs\u001b[49m\u001b[38;5;241;43m=\u001b[39;49m\u001b[43mengine_kwargs\u001b[49m\u001b[43m,\u001b[49m\n\u001b[0;32m    948\u001b[0m \u001b[43m    \u001b[49m\u001b[43m)\u001b[49m\n\u001b[0;32m    949\u001b[0m     need_save \u001b[38;5;241m=\u001b[39m \u001b[38;5;28;01mTrue\u001b[39;00m\n\u001b[0;32m    951\u001b[0m \u001b[38;5;28;01mtry\u001b[39;00m:\n",
      "File \u001b[1;32m~\\AppData\\Local\\Programs\\Python\\Python313\\Lib\\site-packages\\pandas\\io\\excel\\_openpyxl.py:61\u001b[0m, in \u001b[0;36mOpenpyxlWriter.__init__\u001b[1;34m(self, path, engine, date_format, datetime_format, mode, storage_options, if_sheet_exists, engine_kwargs, **kwargs)\u001b[0m\n\u001b[0;32m     57\u001b[0m \u001b[38;5;28;01mfrom\u001b[39;00m\u001b[38;5;250m \u001b[39m\u001b[38;5;21;01mopenpyxl\u001b[39;00m\u001b[38;5;21;01m.\u001b[39;00m\u001b[38;5;21;01mworkbook\u001b[39;00m\u001b[38;5;250m \u001b[39m\u001b[38;5;28;01mimport\u001b[39;00m Workbook\n\u001b[0;32m     59\u001b[0m engine_kwargs \u001b[38;5;241m=\u001b[39m combine_kwargs(engine_kwargs, kwargs)\n\u001b[1;32m---> 61\u001b[0m \u001b[38;5;28;43msuper\u001b[39;49m\u001b[43m(\u001b[49m\u001b[43m)\u001b[49m\u001b[38;5;241;43m.\u001b[39;49m\u001b[38;5;21;43m__init__\u001b[39;49m\u001b[43m(\u001b[49m\n\u001b[0;32m     62\u001b[0m \u001b[43m    \u001b[49m\u001b[43mpath\u001b[49m\u001b[43m,\u001b[49m\n\u001b[0;32m     63\u001b[0m \u001b[43m    \u001b[49m\u001b[43mmode\u001b[49m\u001b[38;5;241;43m=\u001b[39;49m\u001b[43mmode\u001b[49m\u001b[43m,\u001b[49m\n\u001b[0;32m     64\u001b[0m \u001b[43m    \u001b[49m\u001b[43mstorage_options\u001b[49m\u001b[38;5;241;43m=\u001b[39;49m\u001b[43mstorage_options\u001b[49m\u001b[43m,\u001b[49m\n\u001b[0;32m     65\u001b[0m \u001b[43m    \u001b[49m\u001b[43mif_sheet_exists\u001b[49m\u001b[38;5;241;43m=\u001b[39;49m\u001b[43mif_sheet_exists\u001b[49m\u001b[43m,\u001b[49m\n\u001b[0;32m     66\u001b[0m \u001b[43m    \u001b[49m\u001b[43mengine_kwargs\u001b[49m\u001b[38;5;241;43m=\u001b[39;49m\u001b[43mengine_kwargs\u001b[49m\u001b[43m,\u001b[49m\n\u001b[0;32m     67\u001b[0m \u001b[43m\u001b[49m\u001b[43m)\u001b[49m\n\u001b[0;32m     69\u001b[0m \u001b[38;5;66;03m# ExcelWriter replaced \"a\" by \"r+\" to allow us to first read the excel file from\u001b[39;00m\n\u001b[0;32m     70\u001b[0m \u001b[38;5;66;03m# the file and later write to it\u001b[39;00m\n\u001b[0;32m     71\u001b[0m \u001b[38;5;28;01mif\u001b[39;00m \u001b[38;5;124m\"\u001b[39m\u001b[38;5;124mr+\u001b[39m\u001b[38;5;124m\"\u001b[39m \u001b[38;5;129;01min\u001b[39;00m \u001b[38;5;28mself\u001b[39m\u001b[38;5;241m.\u001b[39m_mode:  \u001b[38;5;66;03m# Load from existing workbook\u001b[39;00m\n",
      "File \u001b[1;32m~\\AppData\\Local\\Programs\\Python\\Python313\\Lib\\site-packages\\pandas\\io\\excel\\_base.py:1246\u001b[0m, in \u001b[0;36mExcelWriter.__init__\u001b[1;34m(self, path, engine, date_format, datetime_format, mode, storage_options, if_sheet_exists, engine_kwargs)\u001b[0m\n\u001b[0;32m   1242\u001b[0m \u001b[38;5;28mself\u001b[39m\u001b[38;5;241m.\u001b[39m_handles \u001b[38;5;241m=\u001b[39m IOHandles(\n\u001b[0;32m   1243\u001b[0m     cast(IO[\u001b[38;5;28mbytes\u001b[39m], path), compression\u001b[38;5;241m=\u001b[39m{\u001b[38;5;124m\"\u001b[39m\u001b[38;5;124mcompression\u001b[39m\u001b[38;5;124m\"\u001b[39m: \u001b[38;5;28;01mNone\u001b[39;00m}\n\u001b[0;32m   1244\u001b[0m )\n\u001b[0;32m   1245\u001b[0m \u001b[38;5;28;01mif\u001b[39;00m \u001b[38;5;129;01mnot\u001b[39;00m \u001b[38;5;28misinstance\u001b[39m(path, ExcelWriter):\n\u001b[1;32m-> 1246\u001b[0m     \u001b[38;5;28mself\u001b[39m\u001b[38;5;241m.\u001b[39m_handles \u001b[38;5;241m=\u001b[39m \u001b[43mget_handle\u001b[49m\u001b[43m(\u001b[49m\n\u001b[0;32m   1247\u001b[0m \u001b[43m        \u001b[49m\u001b[43mpath\u001b[49m\u001b[43m,\u001b[49m\u001b[43m \u001b[49m\u001b[43mmode\u001b[49m\u001b[43m,\u001b[49m\u001b[43m \u001b[49m\u001b[43mstorage_options\u001b[49m\u001b[38;5;241;43m=\u001b[39;49m\u001b[43mstorage_options\u001b[49m\u001b[43m,\u001b[49m\u001b[43m \u001b[49m\u001b[43mis_text\u001b[49m\u001b[38;5;241;43m=\u001b[39;49m\u001b[38;5;28;43;01mFalse\u001b[39;49;00m\n\u001b[0;32m   1248\u001b[0m \u001b[43m    \u001b[49m\u001b[43m)\u001b[49m\n\u001b[0;32m   1249\u001b[0m \u001b[38;5;28mself\u001b[39m\u001b[38;5;241m.\u001b[39m_cur_sheet \u001b[38;5;241m=\u001b[39m \u001b[38;5;28;01mNone\u001b[39;00m\n\u001b[0;32m   1251\u001b[0m \u001b[38;5;28;01mif\u001b[39;00m date_format \u001b[38;5;129;01mis\u001b[39;00m \u001b[38;5;28;01mNone\u001b[39;00m:\n",
      "File \u001b[1;32m~\\AppData\\Local\\Programs\\Python\\Python313\\Lib\\site-packages\\pandas\\io\\common.py:882\u001b[0m, in \u001b[0;36mget_handle\u001b[1;34m(path_or_buf, mode, encoding, compression, memory_map, is_text, errors, storage_options)\u001b[0m\n\u001b[0;32m    873\u001b[0m         handle \u001b[38;5;241m=\u001b[39m \u001b[38;5;28mopen\u001b[39m(\n\u001b[0;32m    874\u001b[0m             handle,\n\u001b[0;32m    875\u001b[0m             ioargs\u001b[38;5;241m.\u001b[39mmode,\n\u001b[1;32m   (...)\u001b[0m\n\u001b[0;32m    878\u001b[0m             newline\u001b[38;5;241m=\u001b[39m\u001b[38;5;124m\"\u001b[39m\u001b[38;5;124m\"\u001b[39m,\n\u001b[0;32m    879\u001b[0m         )\n\u001b[0;32m    880\u001b[0m     \u001b[38;5;28;01melse\u001b[39;00m:\n\u001b[0;32m    881\u001b[0m         \u001b[38;5;66;03m# Binary mode\u001b[39;00m\n\u001b[1;32m--> 882\u001b[0m         handle \u001b[38;5;241m=\u001b[39m \u001b[38;5;28;43mopen\u001b[39;49m\u001b[43m(\u001b[49m\u001b[43mhandle\u001b[49m\u001b[43m,\u001b[49m\u001b[43m \u001b[49m\u001b[43mioargs\u001b[49m\u001b[38;5;241;43m.\u001b[39;49m\u001b[43mmode\u001b[49m\u001b[43m)\u001b[49m\n\u001b[0;32m    883\u001b[0m     handles\u001b[38;5;241m.\u001b[39mappend(handle)\n\u001b[0;32m    885\u001b[0m \u001b[38;5;66;03m# Convert BytesIO or file objects passed with an encoding\u001b[39;00m\n",
      "\u001b[1;31mPermissionError\u001b[0m: [Errno 13] Permission denied: 'gotovo.xlsx'"
     ]
    }
   ],
   "source": [
    "output.to_excel(\"gotovo.xlsx\", index=False)"
   ]
  },
  {
   "cell_type": "code",
   "execution_count": null,
   "id": "9070dd98-5e8a-410d-8699-7f793251a363",
   "metadata": {},
   "outputs": [],
   "source": [
    "output.columns"
   ]
  },
  {
   "cell_type": "code",
   "execution_count": 215,
   "id": "6251e398-4895-402a-bdfc-e97cd8717c4c",
   "metadata": {},
   "outputs": [],
   "source": [
    "df =pd.read_excel(r\"C:\\Users\\bogdan.sliskovic\\Downloads\\table_1500_1600_2010VMVAL.xlsx\", sheet_name = 'T1600')\n",
    "\n",
    "ind = df.iloc[:, 0]\n",
    "\n",
    "ind = ind[ind.isnull() == 0]\n",
    "\n",
    "ind = ind.reset_index(drop = True)\n",
    "\n",
    "kol = df.columns[~df.columns.str.contains('Unnamed')]"
   ]
  },
  {
   "cell_type": "code",
   "execution_count": 257,
   "id": "64f46921-8f0c-420a-9063-80675cd571b5",
   "metadata": {},
   "outputs": [],
   "source": [
    "jedan = kol[:65]"
   ]
  },
  {
   "cell_type": "code",
   "execution_count": 258,
   "id": "bf2b7134-e6ed-4d1a-9683-9ecaa3c01135",
   "metadata": {},
   "outputs": [],
   "source": [
    "total = []\n",
    "for i in ind:\n",
    "    delovi = [f\"{i}_{col}\" for col in jedan]\n",
    "    total_oznaka = f\"{i}_TOTAL\"\n",
    "    formula = f\"{total_oznaka} = \" + \" + \".join(delovi)\n",
    "    total.append(formula)\n",
    "total = pd.Series(total, name = 'Total')"
   ]
  },
  {
   "cell_type": "code",
   "execution_count": 262,
   "id": "e63c3bae-3e51-4159-9072-44bcbe4996b7",
   "metadata": {},
   "outputs": [
    {
     "data": {
      "text/plain": [
       "'CPA_A01_TOTAL = CPA_A01_A01 + CPA_A01_A02 + CPA_A01_A03 + CPA_A01_B + CPA_A01_C10T12 + CPA_A01_C13T15 + CPA_A01_C16 + CPA_A01_C17 + CPA_A01_C18 + CPA_A01_C19 + CPA_A01_C20 + CPA_A01_C21 + CPA_A01_C22 + CPA_A01_C23 + CPA_A01_C24 + CPA_A01_C25 + CPA_A01_C26 + CPA_A01_C27 + CPA_A01_C28 + CPA_A01_C29 + CPA_A01_C30 + CPA_A01_C31_32 + CPA_A01_C33 + CPA_A01_D + CPA_A01_E36 + CPA_A01_E37T39 + CPA_A01_F + CPA_A01_G45 + CPA_A01_G46 + CPA_A01_G47 + CPA_A01_H49 + CPA_A01_H50 + CPA_A01_H51 + CPA_A01_H52 + CPA_A01_H53 + CPA_A01_I + CPA_A01_J58 + CPA_A01_J59_60 + CPA_A01_J61 + CPA_A01_J62_63 + CPA_A01_K64 + CPA_A01_K65 + CPA_A01_K66 + CPA_A01_L68B + CPA_A01_L68A + CPA_A01_M69_70 + CPA_A01_M71 + CPA_A01_M72 + CPA_A01_M73 + CPA_A01_M74_75 + CPA_A01_N77 + CPA_A01_N78 + CPA_A01_N79 + CPA_A01_N80T82 + CPA_A01_O + CPA_A01_P + CPA_A01_Q86 + CPA_A01_Q87_88 + CPA_A01_R90T92 + CPA_A01_R93 + CPA_A01_S94 + CPA_A01_S95 + CPA_A01_S96 + CPA_A01_T + CPA_A01_U'"
      ]
     },
     "execution_count": 262,
     "metadata": {},
     "output_type": "execute_result"
    }
   ],
   "source": [
    "total[0]"
   ]
  },
  {
   "cell_type": "code",
   "execution_count": 259,
   "id": "cc03f1f4-afa6-4c74-8cfd-90714fdfb637",
   "metadata": {},
   "outputs": [],
   "source": [
    "dva = kol[66:69]"
   ]
  },
  {
   "cell_type": "code",
   "execution_count": 260,
   "id": "e01e78d7-21b0-45d8-a6c8-45563f44fc81",
   "metadata": {},
   "outputs": [],
   "source": [
    "fpe = []\n",
    "for i in ind:\n",
    "    delovi = [f\"{i}_{col}\" for col in dva]\n",
    "    total_oznaka = f\"{i}_TOTAL\"\n",
    "    formula = f\"{total_oznaka} = \" + \" + \".join(delovi)\n",
    "    fpe.append(formula)\n",
    "fpe = pd.Series(fpe, name = 'Final consumption expenditure')"
   ]
  },
  {
   "cell_type": "code",
   "execution_count": 261,
   "id": "c63d4be9-adf4-4875-bf0f-d5a247d81f39",
   "metadata": {},
   "outputs": [
    {
     "data": {
      "text/plain": [
       "'CPA_A01_TOTAL = CPA_A01_P3_HH + CPA_A01_P3_NPISH + CPA_A01_P3_GG'"
      ]
     },
     "execution_count": 261,
     "metadata": {},
     "output_type": "execute_result"
    }
   ],
   "source": [
    "fpe[0]"
   ]
  },
  {
   "cell_type": "code",
   "execution_count": 277,
   "id": "26d7ac51-112e-478d-b0b4-9748c1e8fcc7",
   "metadata": {},
   "outputs": [],
   "source": [
    "tri = kol[71:73]"
   ]
  },
  {
   "cell_type": "code",
   "execution_count": 278,
   "id": "9f31c94b-c8a1-4ad3-9604-763aab02c7ae",
   "metadata": {},
   "outputs": [
    {
     "data": {
      "text/plain": [
       "Index(['P53', 'P52'], dtype='object')"
      ]
     },
     "execution_count": 278,
     "metadata": {},
     "output_type": "execute_result"
    }
   ],
   "source": [
    "tri"
   ]
  },
  {
   "cell_type": "code",
   "execution_count": 264,
   "id": "16a8597b-36ba-462e-a7f0-44e4d954cd69",
   "metadata": {},
   "outputs": [],
   "source": [
    "invChange = []\n",
    "for i in ind:\n",
    "    delovi = [f\"{i}_{col}\" for col in tri]\n",
    "    total_oznaka = f\"{i}_TOTAL\"\n",
    "    formula = f\"{total_oznaka} = \" + \" + \".join(delovi)\n",
    "    invChange.append(formula)\n",
    "invChange = pd.Series(invChange, name = 'Changes in inventories and acquisition less disposals of valuables')\n",
    "\n"
   ]
  },
  {
   "cell_type": "code",
   "execution_count": 265,
   "id": "a63f0fb7-6cf8-438c-bee4-bce77d1b7053",
   "metadata": {},
   "outputs": [
    {
     "data": {
      "text/plain": [
       "'CPA_A01_TOTAL = CPA_A01_P53 + CPA_A01_P52'"
      ]
     },
     "execution_count": 265,
     "metadata": {},
     "output_type": "execute_result"
    }
   ],
   "source": [
    "invChange[0]"
   ]
  },
  {
   "cell_type": "code",
   "execution_count": 284,
   "id": "38f231ef-2ced-4d19-ad04-4ce6ad89ed09",
   "metadata": {},
   "outputs": [],
   "source": [
    "cetiri = kol[70:73]"
   ]
  },
  {
   "cell_type": "code",
   "execution_count": 285,
   "id": "448e910b-317a-4c80-9560-1d0501c044e8",
   "metadata": {},
   "outputs": [],
   "source": [
    "gfcf = []\n",
    "for i in ind:\n",
    "    delovi = [f\"{i}_{col}\" for col in cetiri]\n",
    "    total_oznaka = f\"{i}_TOTAL\"\n",
    "    formula = f\"{total_oznaka} = \" + \" + \".join(delovi)\n",
    "    gfcf.append(formula)\n",
    "gfcf = pd.Series(gfcf, name = 'Changes in inventories and acquisition less disposals of valuables')"
   ]
  },
  {
   "cell_type": "code",
   "execution_count": 286,
   "id": "348fc205-24b6-4dce-954c-0500bddee1a7",
   "metadata": {},
   "outputs": [
    {
     "data": {
      "text/plain": [
       "'CPA_A01_TOTAL = CPA_A01_P51 + CPA_A01_P53 + CPA_A01_P52'"
      ]
     },
     "execution_count": 286,
     "metadata": {},
     "output_type": "execute_result"
    }
   ],
   "source": [
    "gfcf[0]"
   ]
  },
  {
   "cell_type": "code",
   "execution_count": 289,
   "id": "108c074b-83a0-4619-bf8f-74ff5e6058fd",
   "metadata": {},
   "outputs": [],
   "source": [
    "pet = kol[76:78]"
   ]
  },
  {
   "cell_type": "code",
   "execution_count": 290,
   "id": "de4b18a0-cf88-405d-8329-7a86ddfd97f0",
   "metadata": {},
   "outputs": [],
   "source": [
    "eu = []\n",
    "for i in ind:\n",
    "    delovi = [f\"{i}_{col}\" for col in pet]\n",
    "    total_oznaka = f\"{i}_TOTAL\"\n",
    "    formula = f\"{total_oznaka} = \" + \" + \".join(delovi)\n",
    "    eu.append(formula)\n",
    "eu = pd.Series(eu, name = 'EU Member States (evolving composition) including EU institutions')"
   ]
  },
  {
   "cell_type": "code",
   "execution_count": 291,
   "id": "999755d8-3604-4786-a04d-c2ef11d08233",
   "metadata": {},
   "outputs": [
    {
     "data": {
      "text/plain": [
       "'CPA_A01_TOTAL = CPA_A01_P6_EU1 + CPA_A01_P6_EU2'"
      ]
     },
     "execution_count": 291,
     "metadata": {},
     "output_type": "execute_result"
    }
   ],
   "source": [
    "eu[0]"
   ]
  },
  {
   "cell_type": "code",
   "execution_count": 293,
   "id": "4ef37bc6-4fae-4bad-999e-03acc371d877",
   "metadata": {},
   "outputs": [],
   "source": [
    "sest = kol[76:79]"
   ]
  },
  {
   "cell_type": "code",
   "execution_count": 294,
   "id": "8b7ef418-0416-4fdd-88cc-e070484cf88e",
   "metadata": {},
   "outputs": [],
   "source": [
    "totalExp = []\n",
    "for i in ind:\n",
    "    delovi = [f\"{i}_{col}\" for col in sest]\n",
    "    total_oznaka = f\"{i}_TOTAL\"\n",
    "    formula = f\"{total_oznaka} = \" + \" + \".join(delovi)\n",
    "    totalExp.append(formula)\n",
    "totalExp = pd.Series(totalExp, name = 'Total exports')"
   ]
  },
  {
   "cell_type": "code",
   "execution_count": 295,
   "id": "5ece3cbc-2a5b-4f0a-9189-0926780e6c73",
   "metadata": {},
   "outputs": [
    {
     "data": {
      "text/plain": [
       "'CPA_A01_TOTAL = CPA_A01_P6_EU1 + CPA_A01_P6_EU2 + CPA_A01_P6_NONEU'"
      ]
     },
     "execution_count": 295,
     "metadata": {},
     "output_type": "execute_result"
    }
   ],
   "source": [
    "totalExp[0]"
   ]
  },
  {
   "cell_type": "code",
   "execution_count": 300,
   "id": "3e4fb175-c89e-41b2-9d64-3a59d6541b3a",
   "metadata": {},
   "outputs": [],
   "source": [
    "sedam = list(dva) + list(cetiri) + list(sest)"
   ]
  },
  {
   "cell_type": "code",
   "execution_count": 303,
   "id": "b979048a-a001-40ce-85e5-0e63561ca8ca",
   "metadata": {},
   "outputs": [],
   "source": [
    "totalFu = []\n",
    "for i in ind:\n",
    "    delovi = [f\"{i}_{col}\" for col in sedam]\n",
    "    total_oznaka = f\"{i}_TOTAL\"\n",
    "    formula = f\"{total_oznaka} = \" + \" + \".join(delovi)\n",
    "    totalFu.append(formula)\n",
    "totalFu = pd.Series(totalFu, name = 'Total final uses at purchasers prices')"
   ]
  },
  {
   "cell_type": "code",
   "execution_count": 307,
   "id": "7d8b5c4f-9d3b-4663-8b52-e8525573dbcd",
   "metadata": {},
   "outputs": [
    {
     "data": {
      "text/plain": [
       "'CPA_A01_TOTAL = CPA_A01_P3_HH + CPA_A01_P3_NPISH + CPA_A01_P3_GG + CPA_A01_P51 + CPA_A01_P53 + CPA_A01_P52 + CPA_A01_P6_EU1 + CPA_A01_P6_EU2 + CPA_A01_P6_NONEU'"
      ]
     },
     "execution_count": 307,
     "metadata": {},
     "output_type": "execute_result"
    }
   ],
   "source": [
    "totalFu[0]"
   ]
  },
  {
   "cell_type": "code",
   "execution_count": 314,
   "id": "711ba0fe-5fd3-4b4a-81a4-d2bf7a51e62e",
   "metadata": {
    "scrolled": true
   },
   "outputs": [],
   "source": [
    "osam = list(jedan) + sedam"
   ]
  },
  {
   "cell_type": "code",
   "execution_count": 315,
   "id": "db5de83e-1381-4753-8b73-93671526324d",
   "metadata": {},
   "outputs": [],
   "source": [
    "totalPP = []\n",
    "for i in ind:\n",
    "    delovi = [f\"{i}_{col}\" for col in osam]\n",
    "    total_oznaka = f\"{i}_TOTAL\"\n",
    "    formula = f\"{total_oznaka} = \" + \" + \".join(delovi)\n",
    "    totalPP.append(formula)\n",
    "totalPP = pd.Series(totalPP, name = 'Total use at purchasers prices')"
   ]
  },
  {
   "cell_type": "code",
   "execution_count": 317,
   "id": "d65df7d3-966d-4143-971c-d8616dc36b4d",
   "metadata": {},
   "outputs": [
    {
     "data": {
      "text/plain": [
       "'CPA_A01_TOTAL = CPA_A01_A01 + CPA_A01_A02 + CPA_A01_A03 + CPA_A01_B + CPA_A01_C10T12 + CPA_A01_C13T15 + CPA_A01_C16 + CPA_A01_C17 + CPA_A01_C18 + CPA_A01_C19 + CPA_A01_C20 + CPA_A01_C21 + CPA_A01_C22 + CPA_A01_C23 + CPA_A01_C24 + CPA_A01_C25 + CPA_A01_C26 + CPA_A01_C27 + CPA_A01_C28 + CPA_A01_C29 + CPA_A01_C30 + CPA_A01_C31_32 + CPA_A01_C33 + CPA_A01_D + CPA_A01_E36 + CPA_A01_E37T39 + CPA_A01_F + CPA_A01_G45 + CPA_A01_G46 + CPA_A01_G47 + CPA_A01_H49 + CPA_A01_H50 + CPA_A01_H51 + CPA_A01_H52 + CPA_A01_H53 + CPA_A01_I + CPA_A01_J58 + CPA_A01_J59_60 + CPA_A01_J61 + CPA_A01_J62_63 + CPA_A01_K64 + CPA_A01_K65 + CPA_A01_K66 + CPA_A01_L68B + CPA_A01_L68A + CPA_A01_M69_70 + CPA_A01_M71 + CPA_A01_M72 + CPA_A01_M73 + CPA_A01_M74_75 + CPA_A01_N77 + CPA_A01_N78 + CPA_A01_N79 + CPA_A01_N80T82 + CPA_A01_O + CPA_A01_P + CPA_A01_Q86 + CPA_A01_Q87_88 + CPA_A01_R90T92 + CPA_A01_R93 + CPA_A01_S94 + CPA_A01_S95 + CPA_A01_S96 + CPA_A01_T + CPA_A01_U + CPA_A01_P3_HH + CPA_A01_P3_NPISH + CPA_A01_P3_GG + CPA_A01_P51 + CPA_A01_P53 + CPA_A01_P52 + CPA_A01_P6_EU1 + CPA_A01_P6_EU2 + CPA_A01_P6_NONEU'"
      ]
     },
     "execution_count": 317,
     "metadata": {},
     "output_type": "execute_result"
    }
   ],
   "source": [
    "totalPP[0]"
   ]
  },
  {
   "cell_type": "code",
   "execution_count": 318,
   "id": "c22a86a6-6e2b-4da9-83b2-822abc96f5cb",
   "metadata": {},
   "outputs": [],
   "source": [
    "izlaz = pd.concat([total, fpe, invChange, gfcf, eu, totalExp, totalFu, totalPP], axis = 1)"
   ]
  },
  {
   "cell_type": "code",
   "execution_count": 321,
   "id": "71caa6fa-e1f1-4c9e-a88e-bdbe5015622d",
   "metadata": {},
   "outputs": [],
   "source": [
    "izlaz.to_excel(\"gotovoSheet2.xlsx\", index=False)"
   ]
  }
 ],
 "metadata": {
  "kernelspec": {
   "display_name": "Python 3 (ipykernel)",
   "language": "python",
   "name": "python3"
  },
  "language_info": {
   "codemirror_mode": {
    "name": "ipython",
    "version": 3
   },
   "file_extension": ".py",
   "mimetype": "text/x-python",
   "name": "python",
   "nbconvert_exporter": "python",
   "pygments_lexer": "ipython3",
   "version": "3.13.1"
  }
 },
 "nbformat": 4,
 "nbformat_minor": 5
}
